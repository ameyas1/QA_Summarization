{
  "nbformat": 4,
  "nbformat_minor": 0,
  "metadata": {
    "colab": {
      "name": "Summary.ipynb",
      "provenance": [],
      "authorship_tag": "ABX9TyOHsE488lr01f7Ecrs6NpD9",
      "include_colab_link": true
    },
    "kernelspec": {
      "name": "python3",
      "display_name": "Python 3"
    }
  },
  "cells": [
    {
      "cell_type": "markdown",
      "metadata": {
        "id": "view-in-github",
        "colab_type": "text"
      },
      "source": [
        "<a href=\"https://colab.research.google.com/github/ameyas1/QA_Summarization/blob/master/Summary.ipynb\" target=\"_parent\"><img src=\"https://colab.research.google.com/assets/colab-badge.svg\" alt=\"Open In Colab\"/></a>"
      ]
    },
    {
      "cell_type": "code",
      "metadata": {
        "id": "IVA-Q4T4MZhw",
        "colab_type": "code",
        "colab": {
          "base_uri": "https://localhost:8080/",
          "height": 449
        },
        "outputId": "7ea23a77-c02d-45f2-d8ea-5fc653173895"
      },
      "source": [
        "!pip install transformers\n",
        "!pip install beautifulsoup4\n",
        "!pip install google\n",
        "\n",
        "!pip install html5lib"
      ],
      "execution_count": null,
      "outputs": [
        {
          "output_type": "stream",
          "text": [
            "Requirement already satisfied: transformers in /usr/local/lib/python3.6/dist-packages (3.0.2)\n",
            "Requirement already satisfied: dataclasses; python_version < \"3.7\" in /usr/local/lib/python3.6/dist-packages (from transformers) (0.7)\n",
            "Requirement already satisfied: filelock in /usr/local/lib/python3.6/dist-packages (from transformers) (3.0.12)\n",
            "Requirement already satisfied: numpy in /usr/local/lib/python3.6/dist-packages (from transformers) (1.18.5)\n",
            "Requirement already satisfied: tqdm>=4.27 in /usr/local/lib/python3.6/dist-packages (from transformers) (4.41.1)\n",
            "Requirement already satisfied: sacremoses in /usr/local/lib/python3.6/dist-packages (from transformers) (0.0.43)\n",
            "Requirement already satisfied: packaging in /usr/local/lib/python3.6/dist-packages (from transformers) (20.4)\n",
            "Requirement already satisfied: requests in /usr/local/lib/python3.6/dist-packages (from transformers) (2.23.0)\n",
            "Requirement already satisfied: sentencepiece!=0.1.92 in /usr/local/lib/python3.6/dist-packages (from transformers) (0.1.91)\n",
            "Requirement already satisfied: tokenizers==0.8.1.rc1 in /usr/local/lib/python3.6/dist-packages (from transformers) (0.8.1rc1)\n",
            "Requirement already satisfied: regex!=2019.12.17 in /usr/local/lib/python3.6/dist-packages (from transformers) (2019.12.20)\n",
            "Requirement already satisfied: joblib in /usr/local/lib/python3.6/dist-packages (from sacremoses->transformers) (0.16.0)\n",
            "Requirement already satisfied: click in /usr/local/lib/python3.6/dist-packages (from sacremoses->transformers) (7.1.2)\n",
            "Requirement already satisfied: six in /usr/local/lib/python3.6/dist-packages (from sacremoses->transformers) (1.12.0)\n",
            "Requirement already satisfied: pyparsing>=2.0.2 in /usr/local/lib/python3.6/dist-packages (from packaging->transformers) (2.4.7)\n",
            "Requirement already satisfied: chardet<4,>=3.0.2 in /usr/local/lib/python3.6/dist-packages (from requests->transformers) (3.0.4)\n",
            "Requirement already satisfied: certifi>=2017.4.17 in /usr/local/lib/python3.6/dist-packages (from requests->transformers) (2020.6.20)\n",
            "Requirement already satisfied: urllib3!=1.25.0,!=1.25.1,<1.26,>=1.21.1 in /usr/local/lib/python3.6/dist-packages (from requests->transformers) (1.24.3)\n",
            "Requirement already satisfied: idna<3,>=2.5 in /usr/local/lib/python3.6/dist-packages (from requests->transformers) (2.10)\n",
            "Requirement already satisfied: beautifulsoup4 in /usr/local/lib/python3.6/dist-packages (4.6.3)\n",
            "Requirement already satisfied: google in /usr/local/lib/python3.6/dist-packages (2.0.3)\n",
            "Requirement already satisfied: beautifulsoup4 in /usr/local/lib/python3.6/dist-packages (from google) (4.6.3)\n",
            "Requirement already satisfied: html5lib in /usr/local/lib/python3.6/dist-packages (1.0.1)\n",
            "Requirement already satisfied: six>=1.9 in /usr/local/lib/python3.6/dist-packages (from html5lib) (1.12.0)\n",
            "Requirement already satisfied: webencodings in /usr/local/lib/python3.6/dist-packages (from html5lib) (0.5.1)\n"
          ],
          "name": "stdout"
        }
      ]
    },
    {
      "cell_type": "code",
      "metadata": {
        "id": "zog4_QrhMcmt",
        "colab_type": "code",
        "colab": {
          "base_uri": "https://localhost:8080/",
          "height": 51
        },
        "outputId": "dbb53323-8870-4863-e772-5f17883d0bc5"
      },
      "source": [
        "import pandas as pd\n",
        "import tensorflow as tf\n",
        "import numpy as np\n",
        "from transformers import *\n",
        "from IPython.display import clear_output\n",
        "import textwrap\n",
        "\n",
        "# Wrap text to 80 characters.\n",
        "wrapper = textwrap.TextWrapper(width=80)\n",
        "\n",
        "try: \n",
        "    from googlesearch import search \n",
        "except ImportError:  \n",
        "    print(\"No module named 'google' found\") \n",
        "\n",
        "import requests\n",
        "from bs4 import BeautifulSoup\n",
        "\n",
        "import nltk\n",
        "nltk.download(\"stopwords\")\n",
        "from nltk.corpus import stopwords\n",
        "\n",
        "import string\n",
        "\n"
      ],
      "execution_count": null,
      "outputs": [
        {
          "output_type": "stream",
          "text": [
            "[nltk_data] Downloading package stopwords to /root/nltk_data...\n",
            "[nltk_data]   Unzipping corpora/stopwords.zip.\n"
          ],
          "name": "stdout"
        }
      ]
    },
    {
      "cell_type": "code",
      "metadata": {
        "id": "5BlPExgAUist",
        "colab_type": "code",
        "colab": {
          "base_uri": "https://localhost:8080/",
          "height": 86
        },
        "outputId": "d3230c3f-e3c4-4042-a6d0-460320f26e39"
      },
      "source": [
        "from transformers import TFAutoModelWithLMHead, AutoTokenizer\n",
        "\n",
        "model = TFAutoModelWithLMHead.from_pretrained(\"t5-base\")\n",
        "tokenizer = AutoTokenizer.from_pretrained(\"t5-base\")\n",
        "\n",
        "# ARTICLE = \"I can confidently say that God's Gift - 14 Days is going to be ONE OF THE BEST K-dramas of 2014!! I can already see many awards coming its way at the end of the year!!\\\n",
        "# The story line is just amazing. From episode 1, I was captivated by the plot, making me sit at the edge of my chair, anticipating of what would happen next. Just when I thought I figured out who is behind it all, something unexpected happened and I was left at a dead end with numerous questions. Even until the very last minute of the final episode I was left awestruck. It took me a few minutes to register what happened and then everything clicked into place. Usually I am pretty good at figuring out who is bad and who is good, but this drama totally made me run around in circles.\\\n",
        "# The cast was also amazing. I have no words to describe how well everyone played their parts. Lee Bo Young played the mother soo well. The determination she showed to save her child no matter what, it felt real. She is clearly a great actress. And what can I say about Cho Seung Woo, he was just amazing!! The action scenes he did was just top notch!! Seriously can i have him protect me too? haha But in all seriousness, he did a great job!\"\n",
        "\n",
        "# # T5 uses a max_length of 512 so we cut the article to 512 tokens.\n",
        "# inputs = tokenizer.encode(\"summarize: \" + ARTICLE, return_tensors=\"tf\", max_length=512)\n",
        "# outputs = model.generate(inputs, max_length=200, min_length=80, length_penalty=2.0, num_beams=4, early_stopping=True)\n",
        "# print(outputs)"
      ],
      "execution_count": null,
      "outputs": [
        {
          "output_type": "stream",
          "text": [
            "All model checkpoint weights were used when initializing TFT5ForConditionalGeneration.\n",
            "\n",
            "All the weights of TFT5ForConditionalGeneration were initialized from the model checkpoint at t5-base.\n",
            "If your task is similar to the task the model of the ckeckpoint was trained on, you can already use TFT5ForConditionalGeneration for predictions without further training.\n"
          ],
          "name": "stderr"
        }
      ]
    },
    {
      "cell_type": "code",
      "metadata": {
        "id": "2v4llZAXXBI2",
        "colab_type": "code",
        "colab": {
          "base_uri": "https://localhost:8080/",
          "height": 54
        },
        "outputId": "cc55b3c7-e0f8-4c12-83f9-62be45e21e6b"
      },
      "source": [
        "inputs = tokenizer.encode(\"summarize: \" + ARTICLE, return_tensors=\"tf\", max_length=512)\n",
        "outputs = model.generate(inputs, max_length=200, min_length=80, length_penalty=1.0, num_beams=4, early_stopping=True)"
      ],
      "execution_count": null,
      "outputs": [
        {
          "output_type": "stream",
          "text": [
            "Truncation was not explicitely activated but `max_length` is provided a specific value, please use `truncation=True` to explicitely truncate examples to max length. Defaulting to 'longest_first' truncation strategy. If you encode pairs of sequences (GLUE-style) with the tokenizer you can select this strategy more precisely by providing a specific strategy to `truncation`.\n"
          ],
          "name": "stderr"
        }
      ]
    },
    {
      "cell_type": "code",
      "metadata": {
        "id": "yP4zdpd5WNmG",
        "colab_type": "code",
        "colab": {
          "base_uri": "https://localhost:8080/",
          "height": 52
        },
        "outputId": "8a084d4f-434b-4565-ecd7-01c07f0f7082"
      },
      "source": [
        "tokenizer.convert_tokens_to_string(tokenizer.convert_ids_to_tokens(outputs[0]))"
      ],
      "execution_count": null,
      "outputs": [
        {
          "output_type": "execute_result",
          "data": {
            "application/vnd.google.colaboratory.intrinsic": {
              "type": "string"
            },
            "text/plain": [
              "\"God's Gift - 14 days is going to be ONE of the BEST K-dramas of 2014 . the story line is just amazing . the cast was also amazing . the action scenes he did was just top notch!! Seriously can i have him protect me too? haha But in all seriousness, he did a great job! .\""
            ]
          },
          "metadata": {
            "tags": []
          },
          "execution_count": 13
        }
      ]
    },
    {
      "cell_type": "code",
      "metadata": {
        "id": "1rnyAtYKWu4G",
        "colab_type": "code",
        "colab": {}
      },
      "source": [
        ""
      ],
      "execution_count": null,
      "outputs": []
    },
    {
      "cell_type": "code",
      "metadata": {
        "id": "dhTqVUiAZZ8T",
        "colab_type": "code",
        "colab": {}
      },
      "source": [
        ""
      ],
      "execution_count": null,
      "outputs": []
    },
    {
      "cell_type": "code",
      "metadata": {
        "id": "-OJNjfnJZZ_w",
        "colab_type": "code",
        "colab": {}
      },
      "source": [
        "def answer(ques):\n",
        "  ans =''\n",
        "  all_ans = []\n",
        "  max_score = -np.inf\n",
        "  query = ques\n",
        "  urls = [] \n",
        "  for j in search(query, tld=\"com\", num=3, stop=3, pause=2):\n",
        "    urls.append(j)\n",
        "\n",
        "  keywords = query.split(\" \")\n",
        "\n",
        "  stop_words = set(stopwords.words('english')) \n",
        "  keys = [w for w in keywords if not w in stop_words] \n",
        "\n",
        "  words = [i for i in keys if i not in string.punctuation]\n",
        "\n",
        "  contexts=[]\n",
        "\n",
        "  for URL in urls:\n",
        "    page = requests.get(URL)\n",
        "    soup = BeautifulSoup(page.content, 'html5lib')\n",
        "\n",
        "    for p in soup.select('p'):\n",
        "      context = p.getText()\n",
        "      for keyword in words:\n",
        "        if keyword.lower() in context.lower() and context not in contexts:\n",
        "          contexts.append(context)\n",
        "          inputs = tokenizer.encode(\"summarize: \" + context, return_tensors=\"tf\", max_length=512, truncation=True)\n",
        "          outputs = model.generate(inputs, max_length=200, min_length=80, length_penalty=1.0, num_beams=4, early_stopping=True)\n",
        "          ans = tokenizer.convert_tokens_to_string(tokenizer.convert_ids_to_tokens(outputs[0]))\n",
        "          if '[UNK]' in ans or '[CLS]' in ans or '[SEP]' in ans:\n",
        "            continue\n",
        "          if ans in all_ans:\n",
        "            continue\n",
        "          all_ans.append(wrapper.fill(ans))\n",
        "          print(ans)\n",
        "\n",
        "  clear_output()\n",
        "\n",
        "  print('All answers')\n",
        "  all_ans =list(set(all_ans))\n",
        "  for i, ANS in enumerate(all_ans):\n",
        "    print(i,\" \",wrapper.fill(ANS))"
      ],
      "execution_count": null,
      "outputs": []
    },
    {
      "cell_type": "code",
      "metadata": {
        "id": "zJ51nMUFZ5fF",
        "colab_type": "code",
        "colab": {
          "base_uri": "https://localhost:8080/",
          "height": 1000
        },
        "outputId": "dc32dbc5-081f-465c-e69b-811ad12929fa"
      },
      "source": [
        "answer(\"What are the reviews of Signal Korean Drama ?\")"
      ],
      "execution_count": null,
      "outputs": [
        {
          "output_type": "stream",
          "text": [
            "All answers\n",
            "0   \"Signal\" rides on something more elusive and invisible . the show rides on the\n",
            "waves of superb writing and emotionally deep characters . \"signal\" didn't even\n",
            "need \"kisses or cringy lines to sweep hearts\" as one fan put it . \"signal\"\n",
            "didn't even need \"kisses or cringy lines to sweep hearts\"\n",
            "1   tvN’s “Signal” ran for sixteen episodes from January 22 to March 12, 2016 . it\n",
            "was written by veteran mystery writer Kim Eun Hee and directed by Kim Won Suk .\n",
            "it became one of the highest rated dramas in the history of Korean cable\n",
            "television history . there was a Japanese remake of the show which aired this\n",
            "year .\n",
            "2   audience members could easily follow the timeline’s and the details stuffed into\n",
            "it without having our brains hurt . everything still being very grounded and\n",
            "established . jae Han’s disappearance and death tied into the story arc of\n",
            "corrupt higher ups and people of influence . audience members could follow the\n",
            "timeline’s and the details stuffed into it without having our brains hurt .\n",
            "3   \"Signal\" follows a young profiler in present day named Park hae Young (Lee Je\n",
            "Hoon) he acquires a mysterious walkie-talkie that allows him to communicate with\n",
            "Detective Lee Jae Han (Jo Jin Woong) from the late ’80s to the early 2000s . the\n",
            "three attempt to solve several cold cases that hit closer to home more often\n",
            "than not .\n",
            "4   tvN’s 2017 drama “Forest of Secrets/Stranger” was definitely a culmination of\n",
            "the genre . tvN’s 2017 drama “Forest of Secrets/Stranger” was definitely a\n",
            "culmination of the genre . tvN’s 2017 drama “Forest of Secrets/Stranger” was\n",
            "definitely a culmination of the genre .\n",
            "5   \"Signal\" is a crime thriller where the past and present collide through a\n",
            "mysterious walkie-talkie . based on real unsolved murder mysteries, three\n",
            "detectives from 1989 and 2015 transcend time in their quest for truth and\n",
            "justice . using the power of foresight and hindsight, they crack one cold case\n",
            "after another, changing the past and the present .\n",
            "6   Signal isn’t science fiction or fantasy so much as magical realism . the\n",
            "supernatural premise succeeds simply because of its limitations . Signal’s\n",
            "uncanny plot device allows it to avoid the predictability and repetition that\n",
            "can often deaden other detective shows . here, day-to-day police work is full of\n",
            "possibility. anything can happen in this series .\n",
            "7   the character of detective Lee Jae Han is a lone wolf in a corrupt police force\n",
            ". without a genius IQ or the support of his colleagues, he's a lone wolf in a\n",
            "corrupt police force . when he cries, i cry. when he cries, i cry. when he\n",
            "cries, i cry.\n",
            "8   this is a drama that definitely deserves a rewatch from time to time . it’s just\n",
            "that good. it’s just that good. i agree with everything you just said here . and\n",
            "yes, I would only watch a second season if they had the same creative team and\n",
            "cast . this is a drama that definitely deserves a rewatch from time to time .\n",
            "9   signal suggests rather than spells out the ways many lives are damaged by one\n",
            "man’s greedy power grabs . the ultimate bad guy is a wealthy industrialist who\n",
            "operates in the shadows, beyond the law . but it suggests rather than spells out\n",
            "the ways that many lives are damaged by one man’s greedy power grabs . it\n",
            "suggests rather than spells out the ways that many lives are damaged by one\n",
            "man’s greedy power grabs.\n",
            "10   if you liked Signal make sure you don't miss the masterpiece crime solving drama\n",
            "Missing Noir M. That one still remains my favorite show of this crime solving\n",
            "genre . and if you liked Signal make sure you don't miss the masterpiece crime\n",
            "solving drama Missing Noir M. That one still remains my favorite show of this\n",
            "crime solving genre. that one still remains my favorite show of this crime\n",
            "solving genre.\n",
            "11   tvN’s “Forest of Secrets/Stranger” was definitely one of those kinds of dramas .\n",
            "from 2016, alongside KBS’ “Descendants of the Sun” and tvN’s ratings hit\n",
            "“Goblin”, we had the mind boggling thriller that is “Signal”. tvN’s ratings hit\n",
            "“Goblin” was a mind boggling thriller that is “Signal”.\n",
            "12   several things remained constant in the new timeline- Hae Young’s brother still\n",
            "died; and Jae Han although he didn’t die, still disappeared . it was also\n",
            "interesting that no matter what they did, several things did remain constant in\n",
            "the new timeline- Hae Young’s brother still died; and Jae Han although he didn’t\n",
            "die, still disappeared .\n",
            "13   [...] did. \"Tunnel\" is very much its own thing, with one major case spanning\n",
            "decades . [...] did. [...] did. [...] did. [...] did. [...] did. [...] did.\n",
            "[...] did. [...] did. [...] did. [...] did. [...] did. [...] did. [...] did.\n",
            "[...] did. [...] did. [...] did. [...] did. [...] did. [...] did.\n",
            "14   I agree with your review and yes, Season 2 needs to happen but only if the same\n",
            "writer and cast comes back . the fact that they’re based on true cases in South\n",
            "Korea makes it even more poignant . although I think the plastic bag case is the\n",
            "creepiest and my heart was torn apart with what happened to Soo Hyun . although\n",
            "romance isn’t the main focus in this series, I am glad we got snippets of it via\n",
            "Jae Han and Soo Hyun .\n",
            "15   Soompiers, have you been watching “Signal”? What do you love about the show?\n",
            "Soompiers, have you been watching “Signal”? What do you love about the show?\n",
            "Soompiers, have you been watching “Signal”? Have you been watching “Signal”?\n",
            "What do you love about the show?\n",
            "16   \"Signal\" was a great story that highlighted the power of choice . a good or bad\n",
            "choice can negatively impact a person or shape someone into being the good\n",
            "person he or she is today . as a show, however,\"Signal\" was a great story . that\n",
            "highlighted the power of choice . and how someone’s choices, whether it be a\n",
            "good or bad choice, can negatively impact a person or shape someone into being\n",
            "the good person he or she is today.\n",
            "17   have you seen \"Signal\"? are you looking forward to a second season? are there\n",
            "any other great dramas from 2016 and older that I should be watching? let me\n",
            "know in the comments below . \"Healer\" is also in my to watch list . if you have\n",
            "any other great dramas from 2016 and older that you should be watching, let me\n",
            "know .\n",
            "18   <extra_id_0> Image Source: tvN Signal Facebook Page Image Source: Image Source:\n",
            "tvN Signal Facebook Page Image Source: Image Source: tvN Signal Facebook Page\n",
            "Image Source: Image Source: tvN Signal Facebook Page Image Source: Image Source:\n",
            "tvN Signal Facebook Page Image Source: tvN Signal Facebook Page Image Source:\n",
            "tvN Signal Facebook Page Image Source: tvN Signal Facebook Page Image Source:\n",
            "tvN Signal Facebook Page Image Source: tvN Signal Facebook Page\n",
            "19   i hope that we will be able to get at least the main cast and the original\n",
            "writer on board . it just feels like Jae Han’s, Hae Young’s, and Soo Hyun’s\n",
            "story isn’t done yet . i will only be on board if these conditions are met, and\n",
            "that it only goes up to a second season .\n",
            "20   can the younger Hae Young warn the older Jae Han and save him? or is this one of\n",
            "those things that can’t be changed? will the warnings themselves change events\n",
            "for the worse? what will happen to female detective Soo Hyeon when she discovers\n",
            "that her old love may have escaped death . and that she might just be able to\n",
            "see him again?\n",
            "21   the screenplay of \"Signal\" is nothing short of spectacular . the creative\n",
            "addition of the supernatural element — the walkie-talkie — makes the story even\n",
            "more remarkable . the limitations of the supernatural element — the walkie\n",
            "talkie lights up sporadically, but at exactly 11:23 p.m. every time, and only\n",
            "for a minute — tightens the pacing .\n",
            "22   \"Signal\" was a well-directed, well-crafted, well-written, and well-acted show .\n",
            "everything was deliberate, and even the rules of how the walkie-talkie is used\n",
            "was well established . in a show like \"Signal\", it is very easy for a lot of\n",
            "things to get messy . it was easy for audiences to follow the different\n",
            "timelines the show was unfolding in .\n",
            "23   aaron carroll: i just hope that the writer will be the same, the original main\n",
            "cast will come back . carroll: i just hope that the writer will be the same, the\n",
            "original main cast will come back . carroll: i just hope that it will just be as\n",
            "good as its first season . carroll: i just hope that the writer will be the\n",
            "same, the original main cast will come back .\n",
            "24    ⁇  HOME TO KOREAN DRAMA REVIEWS  ⁇  HOME TO KOREAN DRAMA REVIEWS  ⁇  HOME TO\n",
            "KOREAN DRAMA REVIEWS  ⁇  HOME TO KOREAN DRAMA REVIEWS  ⁇  HOME TO KOREAN DRAMA\n",
            "REVIEWS  ⁇  HOME TO KOREAN DRAMA REVIEWS  ⁇  HOME TO KOREAN DRAMA REVIEWS  ⁇\n",
            "HOME TO KOREAN DRAMA REVIEWS  ⁇  HOME TO KOREAN DR\n",
            "25   a lot of the cases the detectives work on are based on real crimes . the\n",
            "Hwaseong serial murders remain unsolved to this day . even the fictional\n",
            "elements felt logical and authentic, which makes the series even more thrilling\n",
            "to watch . the 1994 Seongsu Bridge collapse was also a real event . a lot of the\n",
            "cases the detectives work on are based on real crimes .\n",
            "26   in the main timeline, we witnessed how he grew up to be cynical of the police\n",
            "force, even though he ended up being an officer himself . in the new timeline at\n",
            "the end, Hae Young still remembered all of that . thanks to that gesture, it was\n",
            "interesting to see that this new Hae Young still ended up becoming a police\n",
            "officer, maybe thanks to what Jae Han did .\n",
            "27   jae Han was a good mentor to Soo Hyun, and it was interesting to watch her\n",
            "evolution as a character from a rookie who didn’t know anything, to the hardened\n",
            "cop who still fights for justice, that she became . it was fun to watch the\n",
            "evolution of Soo Hyun’s and Jae Han’s relationship from mentor and mentee, to\n",
            "friends, and to lovers . romance wasn’t that much highlighted in this drama .\n",
            "28   \"Signal\" is a great drama from start to finish that highlighted the power of\n",
            "choice . it is a solid drama that influenced trends of the 2017 Korean drama\n",
            "landscape . \"signal\" is a great reminder to never give up hope, no matter how\n",
            "bleak the situation is . \"signal\" is a solid drama that influenced trends of the\n",
            "2017 Korean drama landscape .\n",
            "29   michelledong is a Soompi Features Writer . when she’s not straining her neck\n",
            "muscles to find The Next Great Korean Drama, she’s writing her book 2 Questions\n",
            "Every Girl is Asking Herself & casting Kim Soo Hyun as her dream lead. when\n",
            "she’s not straining her neck muscles to find The Next Great Korean Drama, she’s\n",
            "writing her book 2 Questions Every Girl is Asking Herself .\n",
            "30   “Signal” was one of the highest rated series in Korean cable television history\n",
            ". the storyline didn’t lend itself well for product placement . only the cable\n",
            "network tvN was willing to take a chance . tvN was willing to take a chance .\n",
            "tvN was willing to take a chance and aired to a relatively small audience at\n",
            "first .\n"
          ],
          "name": "stdout"
        }
      ]
    },
    {
      "cell_type": "code",
      "metadata": {
        "id": "PZq11Hs1aBEn",
        "colab_type": "code",
        "colab": {}
      },
      "source": [
        ""
      ],
      "execution_count": null,
      "outputs": []
    }
  ]
}