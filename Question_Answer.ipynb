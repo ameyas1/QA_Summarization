{
  "nbformat": 4,
  "nbformat_minor": 0,
  "metadata": {
    "colab": {
      "name": "Question-Answer.ipynb",
      "provenance": [],
      "authorship_tag": "ABX9TyPBh8MrdaURaB22OeWGfmOg",
      "include_colab_link": true
    },
    "kernelspec": {
      "name": "python3",
      "display_name": "Python 3"
    },
    "widgets": {
      "application/vnd.jupyter.widget-state+json": {
        "f5188e5267e248aead28c2c5460e249d": {
          "model_module": "@jupyter-widgets/controls",
          "model_name": "HBoxModel",
          "state": {
            "_view_name": "HBoxView",
            "_dom_classes": [],
            "_model_name": "HBoxModel",
            "_view_module": "@jupyter-widgets/controls",
            "_model_module_version": "1.5.0",
            "_view_count": null,
            "_view_module_version": "1.5.0",
            "box_style": "",
            "layout": "IPY_MODEL_febe1de32a5246a08dadba5faf45c59d",
            "_model_module": "@jupyter-widgets/controls",
            "children": [
              "IPY_MODEL_459cf5f550834f1385b40b48c65d397c",
              "IPY_MODEL_890d25c5bb4840728379aecabd6703fc"
            ]
          }
        },
        "febe1de32a5246a08dadba5faf45c59d": {
          "model_module": "@jupyter-widgets/base",
          "model_name": "LayoutModel",
          "state": {
            "_view_name": "LayoutView",
            "grid_template_rows": null,
            "right": null,
            "justify_content": null,
            "_view_module": "@jupyter-widgets/base",
            "overflow": null,
            "_model_module_version": "1.2.0",
            "_view_count": null,
            "flex_flow": null,
            "width": null,
            "min_width": null,
            "border": null,
            "align_items": null,
            "bottom": null,
            "_model_module": "@jupyter-widgets/base",
            "top": null,
            "grid_column": null,
            "overflow_y": null,
            "overflow_x": null,
            "grid_auto_flow": null,
            "grid_area": null,
            "grid_template_columns": null,
            "flex": null,
            "_model_name": "LayoutModel",
            "justify_items": null,
            "grid_row": null,
            "max_height": null,
            "align_content": null,
            "visibility": null,
            "align_self": null,
            "height": null,
            "min_height": null,
            "padding": null,
            "grid_auto_rows": null,
            "grid_gap": null,
            "max_width": null,
            "order": null,
            "_view_module_version": "1.2.0",
            "grid_template_areas": null,
            "object_position": null,
            "object_fit": null,
            "grid_auto_columns": null,
            "margin": null,
            "display": null,
            "left": null
          }
        },
        "459cf5f550834f1385b40b48c65d397c": {
          "model_module": "@jupyter-widgets/controls",
          "model_name": "FloatProgressModel",
          "state": {
            "_view_name": "ProgressView",
            "style": "IPY_MODEL_93f33eb2eeb748d6877bd2eeca7bc3ca",
            "_dom_classes": [],
            "description": "Downloading: 100%",
            "_model_name": "FloatProgressModel",
            "bar_style": "success",
            "max": 213450,
            "_view_module": "@jupyter-widgets/controls",
            "_model_module_version": "1.5.0",
            "value": 213450,
            "_view_count": null,
            "_view_module_version": "1.5.0",
            "orientation": "horizontal",
            "min": 0,
            "description_tooltip": null,
            "_model_module": "@jupyter-widgets/controls",
            "layout": "IPY_MODEL_05fea777b0854b7890e99b055f705830"
          }
        },
        "890d25c5bb4840728379aecabd6703fc": {
          "model_module": "@jupyter-widgets/controls",
          "model_name": "HTMLModel",
          "state": {
            "_view_name": "HTMLView",
            "style": "IPY_MODEL_ebf67877632448bba9f0ee24ecb4c7a4",
            "_dom_classes": [],
            "description": "",
            "_model_name": "HTMLModel",
            "placeholder": "​",
            "_view_module": "@jupyter-widgets/controls",
            "_model_module_version": "1.5.0",
            "value": " 213k/213k [00:00&lt;00:00, 768kB/s]",
            "_view_count": null,
            "_view_module_version": "1.5.0",
            "description_tooltip": null,
            "_model_module": "@jupyter-widgets/controls",
            "layout": "IPY_MODEL_8e47110642874c15ab9ecfa3abd97f31"
          }
        },
        "93f33eb2eeb748d6877bd2eeca7bc3ca": {
          "model_module": "@jupyter-widgets/controls",
          "model_name": "ProgressStyleModel",
          "state": {
            "_view_name": "StyleView",
            "_model_name": "ProgressStyleModel",
            "description_width": "initial",
            "_view_module": "@jupyter-widgets/base",
            "_model_module_version": "1.5.0",
            "_view_count": null,
            "_view_module_version": "1.2.0",
            "bar_color": null,
            "_model_module": "@jupyter-widgets/controls"
          }
        },
        "05fea777b0854b7890e99b055f705830": {
          "model_module": "@jupyter-widgets/base",
          "model_name": "LayoutModel",
          "state": {
            "_view_name": "LayoutView",
            "grid_template_rows": null,
            "right": null,
            "justify_content": null,
            "_view_module": "@jupyter-widgets/base",
            "overflow": null,
            "_model_module_version": "1.2.0",
            "_view_count": null,
            "flex_flow": null,
            "width": null,
            "min_width": null,
            "border": null,
            "align_items": null,
            "bottom": null,
            "_model_module": "@jupyter-widgets/base",
            "top": null,
            "grid_column": null,
            "overflow_y": null,
            "overflow_x": null,
            "grid_auto_flow": null,
            "grid_area": null,
            "grid_template_columns": null,
            "flex": null,
            "_model_name": "LayoutModel",
            "justify_items": null,
            "grid_row": null,
            "max_height": null,
            "align_content": null,
            "visibility": null,
            "align_self": null,
            "height": null,
            "min_height": null,
            "padding": null,
            "grid_auto_rows": null,
            "grid_gap": null,
            "max_width": null,
            "order": null,
            "_view_module_version": "1.2.0",
            "grid_template_areas": null,
            "object_position": null,
            "object_fit": null,
            "grid_auto_columns": null,
            "margin": null,
            "display": null,
            "left": null
          }
        },
        "ebf67877632448bba9f0ee24ecb4c7a4": {
          "model_module": "@jupyter-widgets/controls",
          "model_name": "DescriptionStyleModel",
          "state": {
            "_view_name": "StyleView",
            "_model_name": "DescriptionStyleModel",
            "description_width": "",
            "_view_module": "@jupyter-widgets/base",
            "_model_module_version": "1.5.0",
            "_view_count": null,
            "_view_module_version": "1.2.0",
            "_model_module": "@jupyter-widgets/controls"
          }
        },
        "8e47110642874c15ab9ecfa3abd97f31": {
          "model_module": "@jupyter-widgets/base",
          "model_name": "LayoutModel",
          "state": {
            "_view_name": "LayoutView",
            "grid_template_rows": null,
            "right": null,
            "justify_content": null,
            "_view_module": "@jupyter-widgets/base",
            "overflow": null,
            "_model_module_version": "1.2.0",
            "_view_count": null,
            "flex_flow": null,
            "width": null,
            "min_width": null,
            "border": null,
            "align_items": null,
            "bottom": null,
            "_model_module": "@jupyter-widgets/base",
            "top": null,
            "grid_column": null,
            "overflow_y": null,
            "overflow_x": null,
            "grid_auto_flow": null,
            "grid_area": null,
            "grid_template_columns": null,
            "flex": null,
            "_model_name": "LayoutModel",
            "justify_items": null,
            "grid_row": null,
            "max_height": null,
            "align_content": null,
            "visibility": null,
            "align_self": null,
            "height": null,
            "min_height": null,
            "padding": null,
            "grid_auto_rows": null,
            "grid_gap": null,
            "max_width": null,
            "order": null,
            "_view_module_version": "1.2.0",
            "grid_template_areas": null,
            "object_position": null,
            "object_fit": null,
            "grid_auto_columns": null,
            "margin": null,
            "display": null,
            "left": null
          }
        },
        "779c9715b51c40b7b031072d0e0860df": {
          "model_module": "@jupyter-widgets/controls",
          "model_name": "HBoxModel",
          "state": {
            "_view_name": "HBoxView",
            "_dom_classes": [],
            "_model_name": "HBoxModel",
            "_view_module": "@jupyter-widgets/controls",
            "_model_module_version": "1.5.0",
            "_view_count": null,
            "_view_module_version": "1.5.0",
            "box_style": "",
            "layout": "IPY_MODEL_42b1bf8d76844af399bbd736ae6f3ccd",
            "_model_module": "@jupyter-widgets/controls",
            "children": [
              "IPY_MODEL_d0adb0f338904e6f85647d1f9d72eb2d",
              "IPY_MODEL_81692519921f488ba9f7f02e141b2ef3"
            ]
          }
        },
        "42b1bf8d76844af399bbd736ae6f3ccd": {
          "model_module": "@jupyter-widgets/base",
          "model_name": "LayoutModel",
          "state": {
            "_view_name": "LayoutView",
            "grid_template_rows": null,
            "right": null,
            "justify_content": null,
            "_view_module": "@jupyter-widgets/base",
            "overflow": null,
            "_model_module_version": "1.2.0",
            "_view_count": null,
            "flex_flow": null,
            "width": null,
            "min_width": null,
            "border": null,
            "align_items": null,
            "bottom": null,
            "_model_module": "@jupyter-widgets/base",
            "top": null,
            "grid_column": null,
            "overflow_y": null,
            "overflow_x": null,
            "grid_auto_flow": null,
            "grid_area": null,
            "grid_template_columns": null,
            "flex": null,
            "_model_name": "LayoutModel",
            "justify_items": null,
            "grid_row": null,
            "max_height": null,
            "align_content": null,
            "visibility": null,
            "align_self": null,
            "height": null,
            "min_height": null,
            "padding": null,
            "grid_auto_rows": null,
            "grid_gap": null,
            "max_width": null,
            "order": null,
            "_view_module_version": "1.2.0",
            "grid_template_areas": null,
            "object_position": null,
            "object_fit": null,
            "grid_auto_columns": null,
            "margin": null,
            "display": null,
            "left": null
          }
        },
        "d0adb0f338904e6f85647d1f9d72eb2d": {
          "model_module": "@jupyter-widgets/controls",
          "model_name": "FloatProgressModel",
          "state": {
            "_view_name": "ProgressView",
            "style": "IPY_MODEL_2e5533dd9ca64e08ac031b835de87928",
            "_dom_classes": [],
            "description": "Downloading: 100%",
            "_model_name": "FloatProgressModel",
            "bar_style": "success",
            "max": 634,
            "_view_module": "@jupyter-widgets/controls",
            "_model_module_version": "1.5.0",
            "value": 634,
            "_view_count": null,
            "_view_module_version": "1.5.0",
            "orientation": "horizontal",
            "min": 0,
            "description_tooltip": null,
            "_model_module": "@jupyter-widgets/controls",
            "layout": "IPY_MODEL_110b2b8b6f2449088c5abe7e4dd96495"
          }
        },
        "81692519921f488ba9f7f02e141b2ef3": {
          "model_module": "@jupyter-widgets/controls",
          "model_name": "HTMLModel",
          "state": {
            "_view_name": "HTMLView",
            "style": "IPY_MODEL_0c2cc0b450c347d2ad5b0d1605c9720d",
            "_dom_classes": [],
            "description": "",
            "_model_name": "HTMLModel",
            "placeholder": "​",
            "_view_module": "@jupyter-widgets/controls",
            "_model_module_version": "1.5.0",
            "value": " 634/634 [00:20&lt;00:00, 30.7B/s]",
            "_view_count": null,
            "_view_module_version": "1.5.0",
            "description_tooltip": null,
            "_model_module": "@jupyter-widgets/controls",
            "layout": "IPY_MODEL_b4e543ec9c8544c5ba418662008891f4"
          }
        },
        "2e5533dd9ca64e08ac031b835de87928": {
          "model_module": "@jupyter-widgets/controls",
          "model_name": "ProgressStyleModel",
          "state": {
            "_view_name": "StyleView",
            "_model_name": "ProgressStyleModel",
            "description_width": "initial",
            "_view_module": "@jupyter-widgets/base",
            "_model_module_version": "1.5.0",
            "_view_count": null,
            "_view_module_version": "1.2.0",
            "bar_color": null,
            "_model_module": "@jupyter-widgets/controls"
          }
        },
        "110b2b8b6f2449088c5abe7e4dd96495": {
          "model_module": "@jupyter-widgets/base",
          "model_name": "LayoutModel",
          "state": {
            "_view_name": "LayoutView",
            "grid_template_rows": null,
            "right": null,
            "justify_content": null,
            "_view_module": "@jupyter-widgets/base",
            "overflow": null,
            "_model_module_version": "1.2.0",
            "_view_count": null,
            "flex_flow": null,
            "width": null,
            "min_width": null,
            "border": null,
            "align_items": null,
            "bottom": null,
            "_model_module": "@jupyter-widgets/base",
            "top": null,
            "grid_column": null,
            "overflow_y": null,
            "overflow_x": null,
            "grid_auto_flow": null,
            "grid_area": null,
            "grid_template_columns": null,
            "flex": null,
            "_model_name": "LayoutModel",
            "justify_items": null,
            "grid_row": null,
            "max_height": null,
            "align_content": null,
            "visibility": null,
            "align_self": null,
            "height": null,
            "min_height": null,
            "padding": null,
            "grid_auto_rows": null,
            "grid_gap": null,
            "max_width": null,
            "order": null,
            "_view_module_version": "1.2.0",
            "grid_template_areas": null,
            "object_position": null,
            "object_fit": null,
            "grid_auto_columns": null,
            "margin": null,
            "display": null,
            "left": null
          }
        },
        "0c2cc0b450c347d2ad5b0d1605c9720d": {
          "model_module": "@jupyter-widgets/controls",
          "model_name": "DescriptionStyleModel",
          "state": {
            "_view_name": "StyleView",
            "_model_name": "DescriptionStyleModel",
            "description_width": "",
            "_view_module": "@jupyter-widgets/base",
            "_model_module_version": "1.5.0",
            "_view_count": null,
            "_view_module_version": "1.2.0",
            "_model_module": "@jupyter-widgets/controls"
          }
        },
        "b4e543ec9c8544c5ba418662008891f4": {
          "model_module": "@jupyter-widgets/base",
          "model_name": "LayoutModel",
          "state": {
            "_view_name": "LayoutView",
            "grid_template_rows": null,
            "right": null,
            "justify_content": null,
            "_view_module": "@jupyter-widgets/base",
            "overflow": null,
            "_model_module_version": "1.2.0",
            "_view_count": null,
            "flex_flow": null,
            "width": null,
            "min_width": null,
            "border": null,
            "align_items": null,
            "bottom": null,
            "_model_module": "@jupyter-widgets/base",
            "top": null,
            "grid_column": null,
            "overflow_y": null,
            "overflow_x": null,
            "grid_auto_flow": null,
            "grid_area": null,
            "grid_template_columns": null,
            "flex": null,
            "_model_name": "LayoutModel",
            "justify_items": null,
            "grid_row": null,
            "max_height": null,
            "align_content": null,
            "visibility": null,
            "align_self": null,
            "height": null,
            "min_height": null,
            "padding": null,
            "grid_auto_rows": null,
            "grid_gap": null,
            "max_width": null,
            "order": null,
            "_view_module_version": "1.2.0",
            "grid_template_areas": null,
            "object_position": null,
            "object_fit": null,
            "grid_auto_columns": null,
            "margin": null,
            "display": null,
            "left": null
          }
        },
        "95aa047a004b45dd9e63039290467bd8": {
          "model_module": "@jupyter-widgets/controls",
          "model_name": "HBoxModel",
          "state": {
            "_view_name": "HBoxView",
            "_dom_classes": [],
            "_model_name": "HBoxModel",
            "_view_module": "@jupyter-widgets/controls",
            "_model_module_version": "1.5.0",
            "_view_count": null,
            "_view_module_version": "1.5.0",
            "box_style": "",
            "layout": "IPY_MODEL_dbc63de95fa04bd1adc223c8e3f3d223",
            "_model_module": "@jupyter-widgets/controls",
            "children": [
              "IPY_MODEL_b477d92d8dee442890cde8eef0e58be0",
              "IPY_MODEL_a92ace9239a3448f8a6fa8c2634cd77b"
            ]
          }
        },
        "dbc63de95fa04bd1adc223c8e3f3d223": {
          "model_module": "@jupyter-widgets/base",
          "model_name": "LayoutModel",
          "state": {
            "_view_name": "LayoutView",
            "grid_template_rows": null,
            "right": null,
            "justify_content": null,
            "_view_module": "@jupyter-widgets/base",
            "overflow": null,
            "_model_module_version": "1.2.0",
            "_view_count": null,
            "flex_flow": null,
            "width": null,
            "min_width": null,
            "border": null,
            "align_items": null,
            "bottom": null,
            "_model_module": "@jupyter-widgets/base",
            "top": null,
            "grid_column": null,
            "overflow_y": null,
            "overflow_x": null,
            "grid_auto_flow": null,
            "grid_area": null,
            "grid_template_columns": null,
            "flex": null,
            "_model_name": "LayoutModel",
            "justify_items": null,
            "grid_row": null,
            "max_height": null,
            "align_content": null,
            "visibility": null,
            "align_self": null,
            "height": null,
            "min_height": null,
            "padding": null,
            "grid_auto_rows": null,
            "grid_gap": null,
            "max_width": null,
            "order": null,
            "_view_module_version": "1.2.0",
            "grid_template_areas": null,
            "object_position": null,
            "object_fit": null,
            "grid_auto_columns": null,
            "margin": null,
            "display": null,
            "left": null
          }
        },
        "b477d92d8dee442890cde8eef0e58be0": {
          "model_module": "@jupyter-widgets/controls",
          "model_name": "FloatProgressModel",
          "state": {
            "_view_name": "ProgressView",
            "style": "IPY_MODEL_b094af617fb54510983641e65a5b677c",
            "_dom_classes": [],
            "description": "Downloading: 100%",
            "_model_name": "FloatProgressModel",
            "bar_style": "success",
            "max": 1334841048,
            "_view_module": "@jupyter-widgets/controls",
            "_model_module_version": "1.5.0",
            "value": 1334841048,
            "_view_count": null,
            "_view_module_version": "1.5.0",
            "orientation": "horizontal",
            "min": 0,
            "description_tooltip": null,
            "_model_module": "@jupyter-widgets/controls",
            "layout": "IPY_MODEL_77afe5556ed6423d866b1f779dc815a2"
          }
        },
        "a92ace9239a3448f8a6fa8c2634cd77b": {
          "model_module": "@jupyter-widgets/controls",
          "model_name": "HTMLModel",
          "state": {
            "_view_name": "HTMLView",
            "style": "IPY_MODEL_db2241e9995e43768ec6162a50ea2d57",
            "_dom_classes": [],
            "description": "",
            "_model_name": "HTMLModel",
            "placeholder": "​",
            "_view_module": "@jupyter-widgets/controls",
            "_model_module_version": "1.5.0",
            "value": " 1.33G/1.33G [00:20&lt;00:00, 66.7MB/s]",
            "_view_count": null,
            "_view_module_version": "1.5.0",
            "description_tooltip": null,
            "_model_module": "@jupyter-widgets/controls",
            "layout": "IPY_MODEL_df670528cf60476c9d8f231b96b293ab"
          }
        },
        "b094af617fb54510983641e65a5b677c": {
          "model_module": "@jupyter-widgets/controls",
          "model_name": "ProgressStyleModel",
          "state": {
            "_view_name": "StyleView",
            "_model_name": "ProgressStyleModel",
            "description_width": "initial",
            "_view_module": "@jupyter-widgets/base",
            "_model_module_version": "1.5.0",
            "_view_count": null,
            "_view_module_version": "1.2.0",
            "bar_color": null,
            "_model_module": "@jupyter-widgets/controls"
          }
        },
        "77afe5556ed6423d866b1f779dc815a2": {
          "model_module": "@jupyter-widgets/base",
          "model_name": "LayoutModel",
          "state": {
            "_view_name": "LayoutView",
            "grid_template_rows": null,
            "right": null,
            "justify_content": null,
            "_view_module": "@jupyter-widgets/base",
            "overflow": null,
            "_model_module_version": "1.2.0",
            "_view_count": null,
            "flex_flow": null,
            "width": null,
            "min_width": null,
            "border": null,
            "align_items": null,
            "bottom": null,
            "_model_module": "@jupyter-widgets/base",
            "top": null,
            "grid_column": null,
            "overflow_y": null,
            "overflow_x": null,
            "grid_auto_flow": null,
            "grid_area": null,
            "grid_template_columns": null,
            "flex": null,
            "_model_name": "LayoutModel",
            "justify_items": null,
            "grid_row": null,
            "max_height": null,
            "align_content": null,
            "visibility": null,
            "align_self": null,
            "height": null,
            "min_height": null,
            "padding": null,
            "grid_auto_rows": null,
            "grid_gap": null,
            "max_width": null,
            "order": null,
            "_view_module_version": "1.2.0",
            "grid_template_areas": null,
            "object_position": null,
            "object_fit": null,
            "grid_auto_columns": null,
            "margin": null,
            "display": null,
            "left": null
          }
        },
        "db2241e9995e43768ec6162a50ea2d57": {
          "model_module": "@jupyter-widgets/controls",
          "model_name": "DescriptionStyleModel",
          "state": {
            "_view_name": "StyleView",
            "_model_name": "DescriptionStyleModel",
            "description_width": "",
            "_view_module": "@jupyter-widgets/base",
            "_model_module_version": "1.5.0",
            "_view_count": null,
            "_view_module_version": "1.2.0",
            "_model_module": "@jupyter-widgets/controls"
          }
        },
        "df670528cf60476c9d8f231b96b293ab": {
          "model_module": "@jupyter-widgets/base",
          "model_name": "LayoutModel",
          "state": {
            "_view_name": "LayoutView",
            "grid_template_rows": null,
            "right": null,
            "justify_content": null,
            "_view_module": "@jupyter-widgets/base",
            "overflow": null,
            "_model_module_version": "1.2.0",
            "_view_count": null,
            "flex_flow": null,
            "width": null,
            "min_width": null,
            "border": null,
            "align_items": null,
            "bottom": null,
            "_model_module": "@jupyter-widgets/base",
            "top": null,
            "grid_column": null,
            "overflow_y": null,
            "overflow_x": null,
            "grid_auto_flow": null,
            "grid_area": null,
            "grid_template_columns": null,
            "flex": null,
            "_model_name": "LayoutModel",
            "justify_items": null,
            "grid_row": null,
            "max_height": null,
            "align_content": null,
            "visibility": null,
            "align_self": null,
            "height": null,
            "min_height": null,
            "padding": null,
            "grid_auto_rows": null,
            "grid_gap": null,
            "max_width": null,
            "order": null,
            "_view_module_version": "1.2.0",
            "grid_template_areas": null,
            "object_position": null,
            "object_fit": null,
            "grid_auto_columns": null,
            "margin": null,
            "display": null,
            "left": null
          }
        }
      }
    }
  },
  "cells": [
    {
      "cell_type": "markdown",
      "metadata": {
        "id": "view-in-github",
        "colab_type": "text"
      },
      "source": [
        "<a href=\"https://colab.research.google.com/github/ameyas1/QA_Summarization/blob/master/Question_Answer.ipynb\" target=\"_parent\"><img src=\"https://colab.research.google.com/assets/colab-badge.svg\" alt=\"Open In Colab\"/></a>"
      ]
    },
    {
      "cell_type": "code",
      "metadata": {
        "id": "QtTnyg8OCC0J",
        "colab_type": "code",
        "colab": {
          "base_uri": "https://localhost:8080/",
          "height": 68
        },
        "outputId": "818bbcfb-8e5f-4342-ebb7-395534606fa1"
      },
      "source": [
        "!pip install beautifulsoup4\n",
        "!pip install google"
      ],
      "execution_count": null,
      "outputs": [
        {
          "output_type": "stream",
          "text": [
            "Requirement already satisfied: beautifulsoup4 in /usr/local/lib/python3.6/dist-packages (4.6.3)\n",
            "Requirement already satisfied: google in /usr/local/lib/python3.6/dist-packages (2.0.3)\n",
            "Requirement already satisfied: beautifulsoup4 in /usr/local/lib/python3.6/dist-packages (from google) (4.6.3)\n"
          ],
          "name": "stdout"
        }
      ]
    },
    {
      "cell_type": "code",
      "metadata": {
        "id": "XoZEiuKZaAdz",
        "colab_type": "code",
        "colab": {}
      },
      "source": [
        "from IPython.display import clear_output\n"
      ],
      "execution_count": null,
      "outputs": []
    },
    {
      "cell_type": "code",
      "metadata": {
        "id": "n37B1RGvOqhJ",
        "colab_type": "code",
        "colab": {
          "base_uri": "https://localhost:8080/",
          "height": 604
        },
        "outputId": "d5329518-2f82-43bf-eaec-ef53a62c2c85"
      },
      "source": [
        "!pip install transformers"
      ],
      "execution_count": null,
      "outputs": [
        {
          "output_type": "stream",
          "text": [
            "Collecting transformers\n",
            "\u001b[?25l  Downloading https://files.pythonhosted.org/packages/27/3c/91ed8f5c4e7ef3227b4119200fc0ed4b4fd965b1f0172021c25701087825/transformers-3.0.2-py3-none-any.whl (769kB)\n",
            "\r\u001b[K     |▍                               | 10kB 18.3MB/s eta 0:00:01\r\u001b[K     |▉                               | 20kB 2.8MB/s eta 0:00:01\r\u001b[K     |█▎                              | 30kB 3.3MB/s eta 0:00:01\r\u001b[K     |█▊                              | 40kB 3.7MB/s eta 0:00:01\r\u001b[K     |██▏                             | 51kB 3.3MB/s eta 0:00:01\r\u001b[K     |██▋                             | 61kB 3.6MB/s eta 0:00:01\r\u001b[K     |███                             | 71kB 4.0MB/s eta 0:00:01\r\u001b[K     |███▍                            | 81kB 4.2MB/s eta 0:00:01\r\u001b[K     |███▉                            | 92kB 4.4MB/s eta 0:00:01\r\u001b[K     |████▎                           | 102kB 4.4MB/s eta 0:00:01\r\u001b[K     |████▊                           | 112kB 4.4MB/s eta 0:00:01\r\u001b[K     |█████▏                          | 122kB 4.4MB/s eta 0:00:01\r\u001b[K     |█████▌                          | 133kB 4.4MB/s eta 0:00:01\r\u001b[K     |██████                          | 143kB 4.4MB/s eta 0:00:01\r\u001b[K     |██████▍                         | 153kB 4.4MB/s eta 0:00:01\r\u001b[K     |██████▉                         | 163kB 4.4MB/s eta 0:00:01\r\u001b[K     |███████▎                        | 174kB 4.4MB/s eta 0:00:01\r\u001b[K     |███████▊                        | 184kB 4.4MB/s eta 0:00:01\r\u001b[K     |████████                        | 194kB 4.4MB/s eta 0:00:01\r\u001b[K     |████████▌                       | 204kB 4.4MB/s eta 0:00:01\r\u001b[K     |█████████                       | 215kB 4.4MB/s eta 0:00:01\r\u001b[K     |█████████▍                      | 225kB 4.4MB/s eta 0:00:01\r\u001b[K     |█████████▉                      | 235kB 4.4MB/s eta 0:00:01\r\u001b[K     |██████████▎                     | 245kB 4.4MB/s eta 0:00:01\r\u001b[K     |██████████▋                     | 256kB 4.4MB/s eta 0:00:01\r\u001b[K     |███████████                     | 266kB 4.4MB/s eta 0:00:01\r\u001b[K     |███████████▌                    | 276kB 4.4MB/s eta 0:00:01\r\u001b[K     |████████████                    | 286kB 4.4MB/s eta 0:00:01\r\u001b[K     |████████████▍                   | 296kB 4.4MB/s eta 0:00:01\r\u001b[K     |████████████▉                   | 307kB 4.4MB/s eta 0:00:01\r\u001b[K     |█████████████▏                  | 317kB 4.4MB/s eta 0:00:01\r\u001b[K     |█████████████▋                  | 327kB 4.4MB/s eta 0:00:01\r\u001b[K     |██████████████                  | 337kB 4.4MB/s eta 0:00:01\r\u001b[K     |██████████████▌                 | 348kB 4.4MB/s eta 0:00:01\r\u001b[K     |███████████████                 | 358kB 4.4MB/s eta 0:00:01\r\u001b[K     |███████████████▍                | 368kB 4.4MB/s eta 0:00:01\r\u001b[K     |███████████████▊                | 378kB 4.4MB/s eta 0:00:01\r\u001b[K     |████████████████▏               | 389kB 4.4MB/s eta 0:00:01\r\u001b[K     |████████████████▋               | 399kB 4.4MB/s eta 0:00:01\r\u001b[K     |█████████████████               | 409kB 4.4MB/s eta 0:00:01\r\u001b[K     |█████████████████▌              | 419kB 4.4MB/s eta 0:00:01\r\u001b[K     |██████████████████              | 430kB 4.4MB/s eta 0:00:01\r\u001b[K     |██████████████████▎             | 440kB 4.4MB/s eta 0:00:01\r\u001b[K     |██████████████████▊             | 450kB 4.4MB/s eta 0:00:01\r\u001b[K     |███████████████████▏            | 460kB 4.4MB/s eta 0:00:01\r\u001b[K     |███████████████████▋            | 471kB 4.4MB/s eta 0:00:01\r\u001b[K     |████████████████████            | 481kB 4.4MB/s eta 0:00:01\r\u001b[K     |████████████████████▌           | 491kB 4.4MB/s eta 0:00:01\r\u001b[K     |████████████████████▉           | 501kB 4.4MB/s eta 0:00:01\r\u001b[K     |█████████████████████▎          | 512kB 4.4MB/s eta 0:00:01\r\u001b[K     |█████████████████████▊          | 522kB 4.4MB/s eta 0:00:01\r\u001b[K     |██████████████████████▏         | 532kB 4.4MB/s eta 0:00:01\r\u001b[K     |██████████████████████▋         | 542kB 4.4MB/s eta 0:00:01\r\u001b[K     |███████████████████████         | 552kB 4.4MB/s eta 0:00:01\r\u001b[K     |███████████████████████▍        | 563kB 4.4MB/s eta 0:00:01\r\u001b[K     |███████████████████████▉        | 573kB 4.4MB/s eta 0:00:01\r\u001b[K     |████████████████████████▎       | 583kB 4.4MB/s eta 0:00:01\r\u001b[K     |████████████████████████▊       | 593kB 4.4MB/s eta 0:00:01\r\u001b[K     |█████████████████████████▏      | 604kB 4.4MB/s eta 0:00:01\r\u001b[K     |█████████████████████████▋      | 614kB 4.4MB/s eta 0:00:01\r\u001b[K     |██████████████████████████      | 624kB 4.4MB/s eta 0:00:01\r\u001b[K     |██████████████████████████▍     | 634kB 4.4MB/s eta 0:00:01\r\u001b[K     |██████████████████████████▉     | 645kB 4.4MB/s eta 0:00:01\r\u001b[K     |███████████████████████████▎    | 655kB 4.4MB/s eta 0:00:01\r\u001b[K     |███████████████████████████▊    | 665kB 4.4MB/s eta 0:00:01\r\u001b[K     |████████████████████████████▏   | 675kB 4.4MB/s eta 0:00:01\r\u001b[K     |████████████████████████████▌   | 686kB 4.4MB/s eta 0:00:01\r\u001b[K     |█████████████████████████████   | 696kB 4.4MB/s eta 0:00:01\r\u001b[K     |█████████████████████████████▍  | 706kB 4.4MB/s eta 0:00:01\r\u001b[K     |█████████████████████████████▉  | 716kB 4.4MB/s eta 0:00:01\r\u001b[K     |██████████████████████████████▎ | 727kB 4.4MB/s eta 0:00:01\r\u001b[K     |██████████████████████████████▊ | 737kB 4.4MB/s eta 0:00:01\r\u001b[K     |███████████████████████████████ | 747kB 4.4MB/s eta 0:00:01\r\u001b[K     |███████████████████████████████▌| 757kB 4.4MB/s eta 0:00:01\r\u001b[K     |████████████████████████████████| 768kB 4.4MB/s eta 0:00:01\r\u001b[K     |████████████████████████████████| 778kB 4.4MB/s \n",
            "\u001b[?25hRequirement already satisfied: regex!=2019.12.17 in /usr/local/lib/python3.6/dist-packages (from transformers) (2019.12.20)\n",
            "Requirement already satisfied: dataclasses; python_version < \"3.7\" in /usr/local/lib/python3.6/dist-packages (from transformers) (0.7)\n",
            "Requirement already satisfied: filelock in /usr/local/lib/python3.6/dist-packages (from transformers) (3.0.12)\n",
            "Collecting sacremoses\n",
            "\u001b[?25l  Downloading https://files.pythonhosted.org/packages/7d/34/09d19aff26edcc8eb2a01bed8e98f13a1537005d31e95233fd48216eed10/sacremoses-0.0.43.tar.gz (883kB)\n",
            "\r\u001b[K     |▍                               | 10kB 20.9MB/s eta 0:00:01\r\u001b[K     |▊                               | 20kB 29.0MB/s eta 0:00:01\r\u001b[K     |█▏                              | 30kB 35.8MB/s eta 0:00:01\r\u001b[K     |█▌                              | 40kB 31.1MB/s eta 0:00:01\r\u001b[K     |█▉                              | 51kB 15.2MB/s eta 0:00:01\r\u001b[K     |██▎                             | 61kB 17.2MB/s eta 0:00:01\r\u001b[K     |██▋                             | 71kB 16.7MB/s eta 0:00:01\r\u001b[K     |███                             | 81kB 18.1MB/s eta 0:00:01\r\u001b[K     |███▍                            | 92kB 12.6MB/s eta 0:00:01\r\u001b[K     |███▊                            | 102kB 13.4MB/s eta 0:00:01\r\u001b[K     |████                            | 112kB 13.4MB/s eta 0:00:01\r\u001b[K     |████▌                           | 122kB 13.4MB/s eta 0:00:01\r\u001b[K     |████▉                           | 133kB 13.4MB/s eta 0:00:01\r\u001b[K     |█████▏                          | 143kB 13.4MB/s eta 0:00:01\r\u001b[K     |█████▋                          | 153kB 13.4MB/s eta 0:00:01\r\u001b[K     |██████                          | 163kB 13.4MB/s eta 0:00:01\r\u001b[K     |██████▎                         | 174kB 13.4MB/s eta 0:00:01\r\u001b[K     |██████▊                         | 184kB 13.4MB/s eta 0:00:01\r\u001b[K     |███████                         | 194kB 13.4MB/s eta 0:00:01\r\u001b[K     |███████▍                        | 204kB 13.4MB/s eta 0:00:01\r\u001b[K     |███████▉                        | 215kB 13.4MB/s eta 0:00:01\r\u001b[K     |████████▏                       | 225kB 13.4MB/s eta 0:00:01\r\u001b[K     |████████▌                       | 235kB 13.4MB/s eta 0:00:01\r\u001b[K     |█████████                       | 245kB 13.4MB/s eta 0:00:01\r\u001b[K     |█████████▎                      | 256kB 13.4MB/s eta 0:00:01\r\u001b[K     |█████████▋                      | 266kB 13.4MB/s eta 0:00:01\r\u001b[K     |██████████                      | 276kB 13.4MB/s eta 0:00:01\r\u001b[K     |██████████▍                     | 286kB 13.4MB/s eta 0:00:01\r\u001b[K     |██████████▊                     | 296kB 13.4MB/s eta 0:00:01\r\u001b[K     |███████████▏                    | 307kB 13.4MB/s eta 0:00:01\r\u001b[K     |███████████▌                    | 317kB 13.4MB/s eta 0:00:01\r\u001b[K     |███████████▉                    | 327kB 13.4MB/s eta 0:00:01\r\u001b[K     |████████████▎                   | 337kB 13.4MB/s eta 0:00:01\r\u001b[K     |████████████▋                   | 348kB 13.4MB/s eta 0:00:01\r\u001b[K     |█████████████                   | 358kB 13.4MB/s eta 0:00:01\r\u001b[K     |█████████████▍                  | 368kB 13.4MB/s eta 0:00:01\r\u001b[K     |█████████████▊                  | 378kB 13.4MB/s eta 0:00:01\r\u001b[K     |██████████████                  | 389kB 13.4MB/s eta 0:00:01\r\u001b[K     |██████████████▌                 | 399kB 13.4MB/s eta 0:00:01\r\u001b[K     |██████████████▉                 | 409kB 13.4MB/s eta 0:00:01\r\u001b[K     |███████████████▏                | 419kB 13.4MB/s eta 0:00:01\r\u001b[K     |███████████████▋                | 430kB 13.4MB/s eta 0:00:01\r\u001b[K     |████████████████                | 440kB 13.4MB/s eta 0:00:01\r\u001b[K     |████████████████▎               | 450kB 13.4MB/s eta 0:00:01\r\u001b[K     |████████████████▊               | 460kB 13.4MB/s eta 0:00:01\r\u001b[K     |█████████████████               | 471kB 13.4MB/s eta 0:00:01\r\u001b[K     |█████████████████▍              | 481kB 13.4MB/s eta 0:00:01\r\u001b[K     |█████████████████▉              | 491kB 13.4MB/s eta 0:00:01\r\u001b[K     |██████████████████▏             | 501kB 13.4MB/s eta 0:00:01\r\u001b[K     |██████████████████▌             | 512kB 13.4MB/s eta 0:00:01\r\u001b[K     |███████████████████             | 522kB 13.4MB/s eta 0:00:01\r\u001b[K     |███████████████████▎            | 532kB 13.4MB/s eta 0:00:01\r\u001b[K     |███████████████████▋            | 542kB 13.4MB/s eta 0:00:01\r\u001b[K     |████████████████████            | 552kB 13.4MB/s eta 0:00:01\r\u001b[K     |████████████████████▍           | 563kB 13.4MB/s eta 0:00:01\r\u001b[K     |████████████████████▊           | 573kB 13.4MB/s eta 0:00:01\r\u001b[K     |█████████████████████▏          | 583kB 13.4MB/s eta 0:00:01\r\u001b[K     |█████████████████████▌          | 593kB 13.4MB/s eta 0:00:01\r\u001b[K     |█████████████████████▉          | 604kB 13.4MB/s eta 0:00:01\r\u001b[K     |██████████████████████▎         | 614kB 13.4MB/s eta 0:00:01\r\u001b[K     |██████████████████████▋         | 624kB 13.4MB/s eta 0:00:01\r\u001b[K     |███████████████████████         | 634kB 13.4MB/s eta 0:00:01\r\u001b[K     |███████████████████████▍        | 645kB 13.4MB/s eta 0:00:01\r\u001b[K     |███████████████████████▊        | 655kB 13.4MB/s eta 0:00:01\r\u001b[K     |████████████████████████        | 665kB 13.4MB/s eta 0:00:01\r\u001b[K     |████████████████████████▌       | 675kB 13.4MB/s eta 0:00:01\r\u001b[K     |████████████████████████▉       | 686kB 13.4MB/s eta 0:00:01\r\u001b[K     |█████████████████████████▏      | 696kB 13.4MB/s eta 0:00:01\r\u001b[K     |█████████████████████████▋      | 706kB 13.4MB/s eta 0:00:01\r\u001b[K     |██████████████████████████      | 716kB 13.4MB/s eta 0:00:01\r\u001b[K     |██████████████████████████▎     | 727kB 13.4MB/s eta 0:00:01\r\u001b[K     |██████████████████████████▊     | 737kB 13.4MB/s eta 0:00:01\r\u001b[K     |███████████████████████████     | 747kB 13.4MB/s eta 0:00:01\r\u001b[K     |███████████████████████████▍    | 757kB 13.4MB/s eta 0:00:01\r\u001b[K     |███████████████████████████▉    | 768kB 13.4MB/s eta 0:00:01\r\u001b[K     |████████████████████████████▏   | 778kB 13.4MB/s eta 0:00:01\r\u001b[K     |████████████████████████████▌   | 788kB 13.4MB/s eta 0:00:01\r\u001b[K     |█████████████████████████████   | 798kB 13.4MB/s eta 0:00:01\r\u001b[K     |█████████████████████████████▎  | 808kB 13.4MB/s eta 0:00:01\r\u001b[K     |█████████████████████████████▋  | 819kB 13.4MB/s eta 0:00:01\r\u001b[K     |██████████████████████████████  | 829kB 13.4MB/s eta 0:00:01\r\u001b[K     |██████████████████████████████▍ | 839kB 13.4MB/s eta 0:00:01\r\u001b[K     |██████████████████████████████▊ | 849kB 13.4MB/s eta 0:00:01\r\u001b[K     |███████████████████████████████▏| 860kB 13.4MB/s eta 0:00:01\r\u001b[K     |███████████████████████████████▌| 870kB 13.4MB/s eta 0:00:01\r\u001b[K     |███████████████████████████████▉| 880kB 13.4MB/s eta 0:00:01\r\u001b[K     |████████████████████████████████| 890kB 13.4MB/s \n",
            "\u001b[?25hRequirement already satisfied: tqdm>=4.27 in /usr/local/lib/python3.6/dist-packages (from transformers) (4.41.1)\n",
            "Requirement already satisfied: packaging in /usr/local/lib/python3.6/dist-packages (from transformers) (20.4)\n",
            "Requirement already satisfied: requests in /usr/local/lib/python3.6/dist-packages (from transformers) (2.23.0)\n",
            "Collecting sentencepiece!=0.1.92\n",
            "\u001b[?25l  Downloading https://files.pythonhosted.org/packages/d4/a4/d0a884c4300004a78cca907a6ff9a5e9fe4f090f5d95ab341c53d28cbc58/sentencepiece-0.1.91-cp36-cp36m-manylinux1_x86_64.whl (1.1MB)\n",
            "\u001b[K     |████████████████████████████████| 1.1MB 13.3MB/s \n",
            "\u001b[?25hRequirement already satisfied: numpy in /usr/local/lib/python3.6/dist-packages (from transformers) (1.18.5)\n",
            "Collecting tokenizers==0.8.1.rc1\n",
            "\u001b[?25l  Downloading https://files.pythonhosted.org/packages/40/d0/30d5f8d221a0ed981a186c8eb986ce1c94e3a6e87f994eae9f4aa5250217/tokenizers-0.8.1rc1-cp36-cp36m-manylinux1_x86_64.whl (3.0MB)\n",
            "\u001b[K     |████████████████████████████████| 3.0MB 31.7MB/s \n",
            "\u001b[?25hRequirement already satisfied: six in /usr/local/lib/python3.6/dist-packages (from sacremoses->transformers) (1.12.0)\n",
            "Requirement already satisfied: click in /usr/local/lib/python3.6/dist-packages (from sacremoses->transformers) (7.1.2)\n",
            "Requirement already satisfied: joblib in /usr/local/lib/python3.6/dist-packages (from sacremoses->transformers) (0.16.0)\n",
            "Requirement already satisfied: pyparsing>=2.0.2 in /usr/local/lib/python3.6/dist-packages (from packaging->transformers) (2.4.7)\n",
            "Requirement already satisfied: chardet<4,>=3.0.2 in /usr/local/lib/python3.6/dist-packages (from requests->transformers) (3.0.4)\n",
            "Requirement already satisfied: idna<3,>=2.5 in /usr/local/lib/python3.6/dist-packages (from requests->transformers) (2.10)\n",
            "Requirement already satisfied: urllib3!=1.25.0,!=1.25.1,<1.26,>=1.21.1 in /usr/local/lib/python3.6/dist-packages (from requests->transformers) (1.24.3)\n",
            "Requirement already satisfied: certifi>=2017.4.17 in /usr/local/lib/python3.6/dist-packages (from requests->transformers) (2020.6.20)\n",
            "Building wheels for collected packages: sacremoses\n",
            "  Building wheel for sacremoses (setup.py) ... \u001b[?25l\u001b[?25hdone\n",
            "  Created wheel for sacremoses: filename=sacremoses-0.0.43-cp36-none-any.whl size=893260 sha256=b40fcf239ecec91ee953bd1ff3248377c2b132eda2348d9521c8738b5f3500f9\n",
            "  Stored in directory: /root/.cache/pip/wheels/29/3c/fd/7ce5c3f0666dab31a50123635e6fb5e19ceb42ce38d4e58f45\n",
            "Successfully built sacremoses\n",
            "Installing collected packages: sacremoses, sentencepiece, tokenizers, transformers\n",
            "Successfully installed sacremoses-0.0.43 sentencepiece-0.1.91 tokenizers-0.8.1rc1 transformers-3.0.2\n"
          ],
          "name": "stdout"
        }
      ]
    },
    {
      "cell_type": "code",
      "metadata": {
        "id": "91oBA_lKXxtQ",
        "colab_type": "code",
        "colab": {}
      },
      "source": [
        "import textwrap\n",
        "\n",
        "# Wrap text to 80 characters.\n",
        "wrapper = textwrap.TextWrapper(width=80) "
      ],
      "execution_count": null,
      "outputs": []
    },
    {
      "cell_type": "code",
      "metadata": {
        "id": "M5tfFBvhCWZh",
        "colab_type": "code",
        "colab": {}
      },
      "source": [
        "try: \n",
        "    from googlesearch import search \n",
        "except ImportError:  \n",
        "    print(\"No module named 'google' found\") \n",
        "  \n",
        "# # to search \n",
        "# query = \"Blackpink\"\n",
        "# urls = [] \n",
        "# for j in search(query, tld=\"co.in\", num=5, stop=5, pause=2):\n",
        "#   print(j)\n",
        "#   urls.append(j)\n",
        "\n",
        "    "
      ],
      "execution_count": null,
      "outputs": []
    },
    {
      "cell_type": "code",
      "metadata": {
        "id": "VbQqtcZ_ECZT",
        "colab_type": "code",
        "colab": {}
      },
      "source": [
        "import requests\n",
        "from bs4 import BeautifulSoup"
      ],
      "execution_count": null,
      "outputs": []
    },
    {
      "cell_type": "code",
      "metadata": {
        "id": "7vzYWz2iSX7-",
        "colab_type": "code",
        "colab": {
          "base_uri": "https://localhost:8080/",
          "height": 51
        },
        "outputId": "5c53a94e-e5a8-46c1-d17e-df00be9ce580"
      },
      "source": [
        "import nltk\n",
        "nltk.download(\"stopwords\")\n",
        "from nltk.corpus import stopwords"
      ],
      "execution_count": null,
      "outputs": [
        {
          "output_type": "stream",
          "text": [
            "[nltk_data] Downloading package stopwords to /root/nltk_data...\n",
            "[nltk_data]   Unzipping corpora/stopwords.zip.\n"
          ],
          "name": "stdout"
        }
      ]
    },
    {
      "cell_type": "code",
      "metadata": {
        "id": "yoUYWcGTOvIW",
        "colab_type": "code",
        "colab": {}
      },
      "source": [
        "import pandas as pd\n",
        "import tensorflow as tf\n",
        "import numpy as np\n",
        "from transformers import *"
      ],
      "execution_count": null,
      "outputs": []
    },
    {
      "cell_type": "code",
      "metadata": {
        "id": "p3l2400rPVki",
        "colab_type": "code",
        "colab": {}
      },
      "source": [
        "import string"
      ],
      "execution_count": null,
      "outputs": []
    },
    {
      "cell_type": "code",
      "metadata": {
        "id": "hwx-vy6AFzY9",
        "colab_type": "code",
        "colab": {
          "base_uri": "https://localhost:8080/",
          "height": 68
        },
        "outputId": "b1f2160c-3983-42da-cebb-d8b0fc329df9"
      },
      "source": [
        "!pip install html5lib"
      ],
      "execution_count": null,
      "outputs": [
        {
          "output_type": "stream",
          "text": [
            "Requirement already satisfied: html5lib in /usr/local/lib/python3.6/dist-packages (1.0.1)\n",
            "Requirement already satisfied: webencodings in /usr/local/lib/python3.6/dist-packages (from html5lib) (0.5.1)\n",
            "Requirement already satisfied: six>=1.9 in /usr/local/lib/python3.6/dist-packages (from html5lib) (1.12.0)\n"
          ],
          "name": "stdout"
        }
      ]
    },
    {
      "cell_type": "code",
      "metadata": {
        "id": "eQL3xLCvFyZR",
        "colab_type": "code",
        "colab": {
          "base_uri": "https://localhost:8080/",
          "height": 234,
          "referenced_widgets": [
            "f5188e5267e248aead28c2c5460e249d",
            "febe1de32a5246a08dadba5faf45c59d",
            "459cf5f550834f1385b40b48c65d397c",
            "890d25c5bb4840728379aecabd6703fc",
            "93f33eb2eeb748d6877bd2eeca7bc3ca",
            "05fea777b0854b7890e99b055f705830",
            "ebf67877632448bba9f0ee24ecb4c7a4",
            "8e47110642874c15ab9ecfa3abd97f31",
            "779c9715b51c40b7b031072d0e0860df",
            "42b1bf8d76844af399bbd736ae6f3ccd",
            "d0adb0f338904e6f85647d1f9d72eb2d",
            "81692519921f488ba9f7f02e141b2ef3",
            "2e5533dd9ca64e08ac031b835de87928",
            "110b2b8b6f2449088c5abe7e4dd96495",
            "0c2cc0b450c347d2ad5b0d1605c9720d",
            "b4e543ec9c8544c5ba418662008891f4",
            "95aa047a004b45dd9e63039290467bd8",
            "dbc63de95fa04bd1adc223c8e3f3d223",
            "b477d92d8dee442890cde8eef0e58be0",
            "a92ace9239a3448f8a6fa8c2634cd77b",
            "b094af617fb54510983641e65a5b677c",
            "77afe5556ed6423d866b1f779dc815a2",
            "db2241e9995e43768ec6162a50ea2d57",
            "df670528cf60476c9d8f231b96b293ab"
          ]
        },
        "outputId": "f3ea6d16-8bd2-42a3-da0b-4728c7fa7847"
      },
      "source": [
        "tokenizer = BertTokenizer.from_pretrained('bert-large-cased-whole-word-masking-finetuned-squad')\n",
        "model = TFBertForQuestionAnswering.from_pretrained('bert-large-cased-whole-word-masking-finetuned-squad')"
      ],
      "execution_count": null,
      "outputs": [
        {
          "output_type": "display_data",
          "data": {
            "application/vnd.jupyter.widget-view+json": {
              "model_id": "f5188e5267e248aead28c2c5460e249d",
              "version_minor": 0,
              "version_major": 2
            },
            "text/plain": [
              "HBox(children=(FloatProgress(value=0.0, description='Downloading', max=213450.0, style=ProgressStyle(descripti…"
            ]
          },
          "metadata": {
            "tags": []
          }
        },
        {
          "output_type": "stream",
          "text": [
            "\n"
          ],
          "name": "stdout"
        },
        {
          "output_type": "display_data",
          "data": {
            "application/vnd.jupyter.widget-view+json": {
              "model_id": "779c9715b51c40b7b031072d0e0860df",
              "version_minor": 0,
              "version_major": 2
            },
            "text/plain": [
              "HBox(children=(FloatProgress(value=0.0, description='Downloading', max=634.0, style=ProgressStyle(description_…"
            ]
          },
          "metadata": {
            "tags": []
          }
        },
        {
          "output_type": "stream",
          "text": [
            "\n"
          ],
          "name": "stdout"
        },
        {
          "output_type": "display_data",
          "data": {
            "application/vnd.jupyter.widget-view+json": {
              "model_id": "95aa047a004b45dd9e63039290467bd8",
              "version_minor": 0,
              "version_major": 2
            },
            "text/plain": [
              "HBox(children=(FloatProgress(value=0.0, description='Downloading', max=1334841048.0, style=ProgressStyle(descr…"
            ]
          },
          "metadata": {
            "tags": []
          }
        },
        {
          "output_type": "stream",
          "text": [
            "\n"
          ],
          "name": "stdout"
        },
        {
          "output_type": "stream",
          "text": [
            "All model checkpoint weights were used when initializing TFBertForQuestionAnswering.\n",
            "\n",
            "All the weights of TFBertForQuestionAnswering were initialized from the model checkpoint at bert-large-cased-whole-word-masking-finetuned-squad.\n",
            "If your task is similar to the task the model of the ckeckpoint was trained on, you can already use TFBertForQuestionAnswering for predictions without further training.\n"
          ],
          "name": "stderr"
        }
      ]
    },
    {
      "cell_type": "code",
      "metadata": {
        "id": "CgloF1QUP-Fe",
        "colab_type": "code",
        "colab": {}
      },
      "source": [
        "def get_span_from_scores(start_scores, end_scores, input_mask, verbose=False):\n",
        "    \"\"\"\n",
        "    Find start and end indices that maximize sum of start score\n",
        "    and end score, subject to the constraint that start is before end\n",
        "    and both are valid according to input_mask.\n",
        "\n",
        "    Args:\n",
        "        start_scores (list): contains scores for start positions, shape (1, n)\n",
        "        end_scores (list): constains scores for end positions, shape (1, n)\n",
        "        input_mask (list): 1 for valid positions and 0 otherwise\n",
        "    \"\"\"\n",
        "    n = len(start_scores)\n",
        "    max_start_i = -1\n",
        "    max_end_j = -1\n",
        "    max_start_score = -np.inf\n",
        "    max_end_score = -np.inf\n",
        "    max_sum = -np.inf\n",
        "    \n",
        "    # Find i and j that maximizes start_scores[i] + end_scores[j]\n",
        "    # so that i <= j and input_mask[i] == input_mask[j] == 1\n",
        "    \n",
        "    ### START CODE HERE (REPLACE INSTANCES OF 'None' with your code) ###\n",
        "    # set the range for i\n",
        "    for i in range(n): # complete this line\n",
        "        \n",
        "        # set the range for j\n",
        "        for j in range(i,n): #complete this line\n",
        "\n",
        "            # both input masks should be 1\n",
        "            if (input_mask[i]==1) & (input_mask[j]==1): # complete this line\n",
        "                \n",
        "                # check if the sum of the start and end scores is greater than the previous max sum\n",
        "                if (start_scores[i] + end_scores[j])>max_sum: # complete this line\n",
        "\n",
        "                    # calculate the new max sum\n",
        "                    max_sum = start_scores[i] + end_scores[j]\n",
        "        \n",
        "                    # save the index of the max start score\n",
        "                    max_start_i = i\n",
        "                \n",
        "                    # save the index for the max end score\n",
        "                    max_end_j = j\n",
        "                    \n",
        "                    # save the value of the max start score\n",
        "                    max_start_val = start_scores[i]\n",
        "                    \n",
        "                    # save the value of the max end score\n",
        "                    max_end_val = end_scores[j]\n",
        "                                        \n",
        "    ### END CODE HERE ###\n",
        "    if verbose:\n",
        "        print(f\"max start is at index i={max_start_i} and score {max_start_val}\")\n",
        "        print(f\"max end is at index i={max_end_j} and score {max_end_val}\")\n",
        "        print(f\"max start + max end sum of scores is {max_sum}\")\n",
        "    return max_start_i, max_end_j"
      ],
      "execution_count": null,
      "outputs": []
    },
    {
      "cell_type": "code",
      "metadata": {
        "id": "OEua1Ok6PAWF",
        "colab_type": "code",
        "colab": {}
      },
      "source": [
        "# query = \"What are the reviews of Tunnel Korean Drama ?\"\n",
        "# urls = [] \n",
        "# for j in search(query, tld=\"com\", num=3, stop=3, pause=2):\n",
        "#   urls.append(j)\n",
        "\n",
        "# keywords = query.split(\" \")\n",
        "\n",
        "# stop_words = set(stopwords.words('english')) \n",
        "# keys = [w for w in keywords if not w in stop_words] \n",
        "\n",
        "# words = [i for i in keys if i not in string.punctuation]\n",
        "\n",
        "# contexts=[]\n",
        "\n",
        "# for URL in urls:\n",
        "#   page = requests.get(URL)\n",
        "#   soup = BeautifulSoup(page.content, 'html5lib')\n",
        "\n",
        "#   for p in soup.select('p'):\n",
        "#     context = p.getText()\n",
        "#     for keyword in words:\n",
        "#       if keyword.lower() in context.lower():\n",
        "#         contexts.append(context)\n",
        "#         break\n",
        "\n",
        "# context = list(set(contexts))[:50]\n",
        "# ans =''\n",
        "# all_ans = []\n",
        "# max_score = -np.inf\n",
        "# for cont in context:\n",
        "#   inputs = tokenizer.encode_plus(query, cont , add_special_tokens=True, return_tensors=\"tf\", max_length=512, truncation=True)\n",
        "#   input_ids = inputs[\"input_ids\"].numpy()[0]\n",
        "#   text_tokens = tokenizer.convert_ids_to_tokens(input_ids)\n",
        "#   answer_start_scores, answer_end_scores = model(inputs)\n",
        "#   span_start, span_end = get_span_from_scores(answer_start_scores[0], answer_end_scores[0], inputs['attention_mask'][0].numpy())\n",
        "#   ans = tokenizer.convert_tokens_to_string(tokenizer.convert_ids_to_tokens(input_ids[span_start:span_end+1]))\n",
        "#   if '[UNK]' in ans or '[CLS]' in ans or '[SEP]' in ans:\n",
        "#     continue\n",
        "#   if ans in all_ans:\n",
        "#     continue\n",
        "#   all_ans.append(ans)\n",
        "#   print(ans)\n",
        "\n",
        "# clear_output()\n",
        "\n",
        "# print('All answers')\n",
        "# all_ans =list(set(all_ans))\n",
        "# for i, ANS in enumerate(all_ans):\n",
        "#   print(i,\" \",ANS)"
      ],
      "execution_count": null,
      "outputs": []
    },
    {
      "cell_type": "code",
      "metadata": {
        "id": "ErOn2kUFZb5P",
        "colab_type": "code",
        "colab": {}
      },
      "source": [
        "def answer(ques):\n",
        "  ans =''\n",
        "  all_ans = []\n",
        "  max_score = -np.inf\n",
        "  query = ques\n",
        "  urls = [] \n",
        "  for j in search(query, tld=\"com\", num=3, stop=3, pause=2):\n",
        "    urls.append(j)\n",
        "\n",
        "  keywords = query.split(\" \")\n",
        "\n",
        "  stop_words = set(stopwords.words('english')) \n",
        "  keys = [w for w in keywords if not w in stop_words] \n",
        "\n",
        "  words = [i for i in keys if i not in string.punctuation]\n",
        "\n",
        "  contexts=[]\n",
        "\n",
        "  for URL in urls:\n",
        "    page = requests.get(URL)\n",
        "    soup = BeautifulSoup(page.content, 'html5lib')\n",
        "\n",
        "    for p in soup.select('p'):\n",
        "      context = p.getText()\n",
        "      for keyword in words:\n",
        "        if keyword.lower() in context.lower() and context not in contexts:\n",
        "          contexts.append(context)\n",
        "          inputs = tokenizer.encode_plus(query, context , add_special_tokens=True, return_tensors=\"tf\", max_length=512, truncation=True)\n",
        "          input_ids = inputs[\"input_ids\"].numpy()[0]\n",
        "          text_tokens = tokenizer.convert_ids_to_tokens(input_ids)\n",
        "          answer_start_scores, answer_end_scores = model(inputs)\n",
        "          span_start, span_end = get_span_from_scores(answer_start_scores[0], answer_end_scores[0], inputs['attention_mask'][0].numpy())\n",
        "          ans = tokenizer.convert_tokens_to_string(tokenizer.convert_ids_to_tokens(input_ids[span_start:span_end+1]))\n",
        "          if '[UNK]' in ans or '[CLS]' in ans or '[SEP]' in ans:\n",
        "            continue\n",
        "          if ans in all_ans:\n",
        "            continue\n",
        "          all_ans.append(ans)\n",
        "          print(ans)\n",
        "\n",
        "  clear_output()\n",
        "\n",
        "  print('All answers')\n",
        "  all_ans =list(set(all_ans))\n",
        "  for i, ANS in enumerate(all_ans):\n",
        "    print(i,\" \",wrapper.fill(ANS))\n",
        "\n"
      ],
      "execution_count": null,
      "outputs": []
    },
    {
      "cell_type": "code",
      "metadata": {
        "id": "JzZ4CAoEgnkd",
        "colab_type": "code",
        "colab": {
          "base_uri": "https://localhost:8080/"
        },
        "outputId": "09fe6428-6143-4a47-de71-75dbb3bc4ab2"
      },
      "source": [
        "answer(\"Who is iron man ?\")"
      ],
      "execution_count": null,
      "outputs": [
        {
          "output_type": "stream",
          "text": [
            "All answers\n",
            "0   a fictional superhero\n",
            "1   Stark ' s effort to reclaim his autonomy , and thus his manhood\n",
            "2   Invincible\n",
            "3   Iron Man and War Machine fought Hood to keep Stark Industries from falling into\n",
            "Hood ' s hands\n",
            "4   Anthony Edward \" Tony \" Stark\n",
            "5   a traitor among the team ' s ranks\n",
            "6   pro - registration heroes\n",
            "7   anti - communist hero\n",
            "8   Teen Abomination is the son of Happy Hogan\n",
            "9   his robotic personal bodyguard , and corporate mascot\n",
            "10   tracks Madame Masque to Marina del Rey\n",
            "11   he was an industrialist\n",
            "12   a messiah for making their dreams come true\n",
            "13   the character\n",
            "14   The Invincible Iron Man\n",
            "15   Stark publicly stands down as Iron Man , but continues using the costume . He\n",
            "joins the Avengers in stopping the breakout in progress from the Raft and even\n",
            "saves Captain America from falling . [ 68 ] Tony changes the Avengers base to\n",
            "Stark Tower . [ 69 ] The Ghost , the Living Laser and Spymaster reappear and\n",
            "shift Iron Man from standard superhero stories to dealing with politics and\n",
            "industrialism\n",
            "16   Machine Man\n",
            "17   uses Sol ' s Hammer to destroy the fleet\n",
            "18   Stan Lee\n",
            "19   Rhodes\n",
            "20   powered armor that gives him superhuman strength and durability , flight , and\n",
            "an array of weapons . The armor is invented and worn by Stark\n",
            "21   his membership in the Illuminati\n",
            "22   Ho Yinsen , a Nobel Prize - winning physicist\n",
            "23   Iron Man ' s MK III armor that Edwin Jarvis had given Captain America\n",
            "24   Captain America\n",
            "25   Stark ' s time with the Asian Nobel Prize - winning scientist Ho Yinsen\n",
            "26   Anthony Stark\n",
            "27   Comic Book Heroes\n",
            "28   Ultron\n",
            "29   Thomas Edison\n",
            "30   Stark\n",
            "31   Iron Man\n",
            "32   a founding member of the superhero team\n",
            "33   The Invincible Iron Man , with writer Matt Fraction and artist Salvador Larroca\n",
            ". The series inaugural six - part storyline was \" The Five Nightmares \" , which\n",
            "saw Stark\n",
            "34   Tony Stark\n",
            "35   Doctor Doom\n",
            "36   his biological mother was actually Amanda Armstrong\n",
            "37   an online casino slot machine game\n",
            "38   editor and story - plotter Stan Lee , scripter Larry Lieber , story - artist Don\n",
            "Heck , and cover - artist and character - designer Jack Kirby . [ 4 ] In 1963 ,\n",
            "Lee had been toying with the idea of a businessman superhero\n",
            "39   Iron Man escapes the ninjas\n",
            "40   Manufacturing\n",
            "41   armor\n",
            "42   young adult novel called Iron Man : The Gauntlet\n",
            "43   impostor\n",
            "44   a founding member of the superhero team the Avengers\n"
          ],
          "name": "stdout"
        }
      ]
    },
    {
      "cell_type": "code",
      "metadata": {
        "id": "LqEvTtL_guCZ",
        "colab_type": "code",
        "colab": {}
      },
      "source": [
        ""
      ],
      "execution_count": null,
      "outputs": []
    }
  ]
}